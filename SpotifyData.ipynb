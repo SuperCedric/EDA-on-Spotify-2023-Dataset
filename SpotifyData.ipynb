{
 "cells": [
  {
   "cell_type": "code",
   "execution_count": 80,
   "id": "222b4491-9cca-4644-af87-1ee2866ba6f0",
   "metadata": {},
   "outputs": [],
   "source": [
    "#import the necessary libraries to use their functions\n",
    "import pandas as pd\n",
    "import numpy as np\n",
    "import matplotlib.pyplot as plt\n",
    "import seaborn as sns"
   ]
  },
  {
   "cell_type": "markdown",
   "id": "537d15e7-d614-402e-a50b-afa0d4a8de4f",
   "metadata": {},
   "source": [
    "# IMPORTING OF DATASET"
   ]
  },
  {
   "cell_type": "markdown",
   "id": "1f5262d0-4c84-4377-9508-4b5829af542b",
   "metadata": {},
   "source": [
    "## Uncleaned Dataset"
   ]
  },
  {
   "cell_type": "code",
   "execution_count": 84,
   "id": "5ecfa24d-41de-41b6-afe2-176d392a6fff",
   "metadata": {},
   "outputs": [
    {
     "data": {
      "text/html": [
       "<div>\n",
       "<style scoped>\n",
       "    .dataframe tbody tr th:only-of-type {\n",
       "        vertical-align: middle;\n",
       "    }\n",
       "\n",
       "    .dataframe tbody tr th {\n",
       "        vertical-align: top;\n",
       "    }\n",
       "\n",
       "    .dataframe thead th {\n",
       "        text-align: right;\n",
       "    }\n",
       "</style>\n",
       "<table border=\"1\" class=\"dataframe\">\n",
       "  <thead>\n",
       "    <tr style=\"text-align: right;\">\n",
       "      <th></th>\n",
       "      <th>track_name</th>\n",
       "      <th>artist(s)_name</th>\n",
       "      <th>artist_count</th>\n",
       "      <th>released_year</th>\n",
       "      <th>released_month</th>\n",
       "      <th>released_day</th>\n",
       "      <th>in_spotify_playlists</th>\n",
       "      <th>in_spotify_charts</th>\n",
       "      <th>streams</th>\n",
       "      <th>in_apple_playlists</th>\n",
       "      <th>...</th>\n",
       "      <th>bpm</th>\n",
       "      <th>key</th>\n",
       "      <th>mode</th>\n",
       "      <th>danceability_%</th>\n",
       "      <th>valence_%</th>\n",
       "      <th>energy_%</th>\n",
       "      <th>acousticness_%</th>\n",
       "      <th>instrumentalness_%</th>\n",
       "      <th>liveness_%</th>\n",
       "      <th>speechiness_%</th>\n",
       "    </tr>\n",
       "  </thead>\n",
       "  <tbody>\n",
       "    <tr>\n",
       "      <th>0</th>\n",
       "      <td>Seven (feat. Latto) (Explicit Ver.)</td>\n",
       "      <td>Latto, Jung Kook</td>\n",
       "      <td>2</td>\n",
       "      <td>2023</td>\n",
       "      <td>7</td>\n",
       "      <td>14</td>\n",
       "      <td>553</td>\n",
       "      <td>147</td>\n",
       "      <td>141381703</td>\n",
       "      <td>43</td>\n",
       "      <td>...</td>\n",
       "      <td>125</td>\n",
       "      <td>B</td>\n",
       "      <td>Major</td>\n",
       "      <td>80</td>\n",
       "      <td>89</td>\n",
       "      <td>83</td>\n",
       "      <td>31</td>\n",
       "      <td>0</td>\n",
       "      <td>8</td>\n",
       "      <td>4</td>\n",
       "    </tr>\n",
       "    <tr>\n",
       "      <th>1</th>\n",
       "      <td>LALA</td>\n",
       "      <td>Myke Towers</td>\n",
       "      <td>1</td>\n",
       "      <td>2023</td>\n",
       "      <td>3</td>\n",
       "      <td>23</td>\n",
       "      <td>1474</td>\n",
       "      <td>48</td>\n",
       "      <td>133716286</td>\n",
       "      <td>48</td>\n",
       "      <td>...</td>\n",
       "      <td>92</td>\n",
       "      <td>C#</td>\n",
       "      <td>Major</td>\n",
       "      <td>71</td>\n",
       "      <td>61</td>\n",
       "      <td>74</td>\n",
       "      <td>7</td>\n",
       "      <td>0</td>\n",
       "      <td>10</td>\n",
       "      <td>4</td>\n",
       "    </tr>\n",
       "    <tr>\n",
       "      <th>2</th>\n",
       "      <td>vampire</td>\n",
       "      <td>Olivia Rodrigo</td>\n",
       "      <td>1</td>\n",
       "      <td>2023</td>\n",
       "      <td>6</td>\n",
       "      <td>30</td>\n",
       "      <td>1397</td>\n",
       "      <td>113</td>\n",
       "      <td>140003974</td>\n",
       "      <td>94</td>\n",
       "      <td>...</td>\n",
       "      <td>138</td>\n",
       "      <td>F</td>\n",
       "      <td>Major</td>\n",
       "      <td>51</td>\n",
       "      <td>32</td>\n",
       "      <td>53</td>\n",
       "      <td>17</td>\n",
       "      <td>0</td>\n",
       "      <td>31</td>\n",
       "      <td>6</td>\n",
       "    </tr>\n",
       "    <tr>\n",
       "      <th>3</th>\n",
       "      <td>Cruel Summer</td>\n",
       "      <td>Taylor Swift</td>\n",
       "      <td>1</td>\n",
       "      <td>2019</td>\n",
       "      <td>8</td>\n",
       "      <td>23</td>\n",
       "      <td>7858</td>\n",
       "      <td>100</td>\n",
       "      <td>800840817</td>\n",
       "      <td>116</td>\n",
       "      <td>...</td>\n",
       "      <td>170</td>\n",
       "      <td>A</td>\n",
       "      <td>Major</td>\n",
       "      <td>55</td>\n",
       "      <td>58</td>\n",
       "      <td>72</td>\n",
       "      <td>11</td>\n",
       "      <td>0</td>\n",
       "      <td>11</td>\n",
       "      <td>15</td>\n",
       "    </tr>\n",
       "    <tr>\n",
       "      <th>4</th>\n",
       "      <td>WHERE SHE GOES</td>\n",
       "      <td>Bad Bunny</td>\n",
       "      <td>1</td>\n",
       "      <td>2023</td>\n",
       "      <td>5</td>\n",
       "      <td>18</td>\n",
       "      <td>3133</td>\n",
       "      <td>50</td>\n",
       "      <td>303236322</td>\n",
       "      <td>84</td>\n",
       "      <td>...</td>\n",
       "      <td>144</td>\n",
       "      <td>A</td>\n",
       "      <td>Minor</td>\n",
       "      <td>65</td>\n",
       "      <td>23</td>\n",
       "      <td>80</td>\n",
       "      <td>14</td>\n",
       "      <td>63</td>\n",
       "      <td>11</td>\n",
       "      <td>6</td>\n",
       "    </tr>\n",
       "    <tr>\n",
       "      <th>...</th>\n",
       "      <td>...</td>\n",
       "      <td>...</td>\n",
       "      <td>...</td>\n",
       "      <td>...</td>\n",
       "      <td>...</td>\n",
       "      <td>...</td>\n",
       "      <td>...</td>\n",
       "      <td>...</td>\n",
       "      <td>...</td>\n",
       "      <td>...</td>\n",
       "      <td>...</td>\n",
       "      <td>...</td>\n",
       "      <td>...</td>\n",
       "      <td>...</td>\n",
       "      <td>...</td>\n",
       "      <td>...</td>\n",
       "      <td>...</td>\n",
       "      <td>...</td>\n",
       "      <td>...</td>\n",
       "      <td>...</td>\n",
       "      <td>...</td>\n",
       "    </tr>\n",
       "    <tr>\n",
       "      <th>948</th>\n",
       "      <td>My Mind &amp; Me</td>\n",
       "      <td>Selena Gomez</td>\n",
       "      <td>1</td>\n",
       "      <td>2022</td>\n",
       "      <td>11</td>\n",
       "      <td>3</td>\n",
       "      <td>953</td>\n",
       "      <td>0</td>\n",
       "      <td>91473363</td>\n",
       "      <td>61</td>\n",
       "      <td>...</td>\n",
       "      <td>144</td>\n",
       "      <td>A</td>\n",
       "      <td>Major</td>\n",
       "      <td>60</td>\n",
       "      <td>24</td>\n",
       "      <td>39</td>\n",
       "      <td>57</td>\n",
       "      <td>0</td>\n",
       "      <td>8</td>\n",
       "      <td>3</td>\n",
       "    </tr>\n",
       "    <tr>\n",
       "      <th>949</th>\n",
       "      <td>Bigger Than The Whole Sky</td>\n",
       "      <td>Taylor Swift</td>\n",
       "      <td>1</td>\n",
       "      <td>2022</td>\n",
       "      <td>10</td>\n",
       "      <td>21</td>\n",
       "      <td>1180</td>\n",
       "      <td>0</td>\n",
       "      <td>121871870</td>\n",
       "      <td>4</td>\n",
       "      <td>...</td>\n",
       "      <td>166</td>\n",
       "      <td>F#</td>\n",
       "      <td>Major</td>\n",
       "      <td>42</td>\n",
       "      <td>7</td>\n",
       "      <td>24</td>\n",
       "      <td>83</td>\n",
       "      <td>1</td>\n",
       "      <td>12</td>\n",
       "      <td>6</td>\n",
       "    </tr>\n",
       "    <tr>\n",
       "      <th>950</th>\n",
       "      <td>A Veces (feat. Feid)</td>\n",
       "      <td>Feid, Paulo Londra</td>\n",
       "      <td>2</td>\n",
       "      <td>2022</td>\n",
       "      <td>11</td>\n",
       "      <td>3</td>\n",
       "      <td>573</td>\n",
       "      <td>0</td>\n",
       "      <td>73513683</td>\n",
       "      <td>2</td>\n",
       "      <td>...</td>\n",
       "      <td>92</td>\n",
       "      <td>C#</td>\n",
       "      <td>Major</td>\n",
       "      <td>80</td>\n",
       "      <td>81</td>\n",
       "      <td>67</td>\n",
       "      <td>4</td>\n",
       "      <td>0</td>\n",
       "      <td>8</td>\n",
       "      <td>6</td>\n",
       "    </tr>\n",
       "    <tr>\n",
       "      <th>951</th>\n",
       "      <td>En La De Ella</td>\n",
       "      <td>Feid, Sech, Jhayco</td>\n",
       "      <td>3</td>\n",
       "      <td>2022</td>\n",
       "      <td>10</td>\n",
       "      <td>20</td>\n",
       "      <td>1320</td>\n",
       "      <td>0</td>\n",
       "      <td>133895612</td>\n",
       "      <td>29</td>\n",
       "      <td>...</td>\n",
       "      <td>97</td>\n",
       "      <td>C#</td>\n",
       "      <td>Major</td>\n",
       "      <td>82</td>\n",
       "      <td>67</td>\n",
       "      <td>77</td>\n",
       "      <td>8</td>\n",
       "      <td>0</td>\n",
       "      <td>12</td>\n",
       "      <td>5</td>\n",
       "    </tr>\n",
       "    <tr>\n",
       "      <th>952</th>\n",
       "      <td>Alone</td>\n",
       "      <td>Burna Boy</td>\n",
       "      <td>1</td>\n",
       "      <td>2022</td>\n",
       "      <td>11</td>\n",
       "      <td>4</td>\n",
       "      <td>782</td>\n",
       "      <td>2</td>\n",
       "      <td>96007391</td>\n",
       "      <td>27</td>\n",
       "      <td>...</td>\n",
       "      <td>90</td>\n",
       "      <td>E</td>\n",
       "      <td>Minor</td>\n",
       "      <td>61</td>\n",
       "      <td>32</td>\n",
       "      <td>67</td>\n",
       "      <td>15</td>\n",
       "      <td>0</td>\n",
       "      <td>11</td>\n",
       "      <td>5</td>\n",
       "    </tr>\n",
       "  </tbody>\n",
       "</table>\n",
       "<p>953 rows × 24 columns</p>\n",
       "</div>"
      ],
      "text/plain": [
       "                              track_name      artist(s)_name  artist_count  \\\n",
       "0    Seven (feat. Latto) (Explicit Ver.)    Latto, Jung Kook             2   \n",
       "1                                   LALA         Myke Towers             1   \n",
       "2                                vampire      Olivia Rodrigo             1   \n",
       "3                           Cruel Summer        Taylor Swift             1   \n",
       "4                         WHERE SHE GOES           Bad Bunny             1   \n",
       "..                                   ...                 ...           ...   \n",
       "948                         My Mind & Me        Selena Gomez             1   \n",
       "949            Bigger Than The Whole Sky        Taylor Swift             1   \n",
       "950                 A Veces (feat. Feid)  Feid, Paulo Londra             2   \n",
       "951                        En La De Ella  Feid, Sech, Jhayco             3   \n",
       "952                                Alone           Burna Boy             1   \n",
       "\n",
       "     released_year  released_month  released_day  in_spotify_playlists  \\\n",
       "0             2023               7            14                   553   \n",
       "1             2023               3            23                  1474   \n",
       "2             2023               6            30                  1397   \n",
       "3             2019               8            23                  7858   \n",
       "4             2023               5            18                  3133   \n",
       "..             ...             ...           ...                   ...   \n",
       "948           2022              11             3                   953   \n",
       "949           2022              10            21                  1180   \n",
       "950           2022              11             3                   573   \n",
       "951           2022              10            20                  1320   \n",
       "952           2022              11             4                   782   \n",
       "\n",
       "     in_spotify_charts    streams  in_apple_playlists  ...  bpm key   mode  \\\n",
       "0                  147  141381703                  43  ...  125   B  Major   \n",
       "1                   48  133716286                  48  ...   92  C#  Major   \n",
       "2                  113  140003974                  94  ...  138   F  Major   \n",
       "3                  100  800840817                 116  ...  170   A  Major   \n",
       "4                   50  303236322                  84  ...  144   A  Minor   \n",
       "..                 ...        ...                 ...  ...  ...  ..    ...   \n",
       "948                  0   91473363                  61  ...  144   A  Major   \n",
       "949                  0  121871870                   4  ...  166  F#  Major   \n",
       "950                  0   73513683                   2  ...   92  C#  Major   \n",
       "951                  0  133895612                  29  ...   97  C#  Major   \n",
       "952                  2   96007391                  27  ...   90   E  Minor   \n",
       "\n",
       "    danceability_%  valence_% energy_% acousticness_%  instrumentalness_%  \\\n",
       "0               80         89       83             31                   0   \n",
       "1               71         61       74              7                   0   \n",
       "2               51         32       53             17                   0   \n",
       "3               55         58       72             11                   0   \n",
       "4               65         23       80             14                  63   \n",
       "..             ...        ...      ...            ...                 ...   \n",
       "948             60         24       39             57                   0   \n",
       "949             42          7       24             83                   1   \n",
       "950             80         81       67              4                   0   \n",
       "951             82         67       77              8                   0   \n",
       "952             61         32       67             15                   0   \n",
       "\n",
       "     liveness_%  speechiness_%  \n",
       "0             8              4  \n",
       "1            10              4  \n",
       "2            31              6  \n",
       "3            11             15  \n",
       "4            11              6  \n",
       "..          ...            ...  \n",
       "948           8              3  \n",
       "949          12              6  \n",
       "950           8              6  \n",
       "951          12              5  \n",
       "952          11              5  \n",
       "\n",
       "[953 rows x 24 columns]"
      ]
     },
     "execution_count": 84,
     "metadata": {},
     "output_type": "execute_result"
    }
   ],
   "source": [
    "uncleaned = pd.read_csv('spotify-2023.csv', encoding = 'latin1')\n",
    "uncleaned"
   ]
  },
  {
   "cell_type": "markdown",
   "id": "f7cedf58-4464-473a-a871-87fd75504015",
   "metadata": {},
   "source": [
    "## Cleaned Dataset"
   ]
  },
  {
   "cell_type": "code",
   "execution_count": 87,
   "id": "ff293d70-ef5a-4a91-965f-95886ecf5c33",
   "metadata": {},
   "outputs": [
    {
     "data": {
      "text/html": [
       "<div>\n",
       "<style scoped>\n",
       "    .dataframe tbody tr th:only-of-type {\n",
       "        vertical-align: middle;\n",
       "    }\n",
       "\n",
       "    .dataframe tbody tr th {\n",
       "        vertical-align: top;\n",
       "    }\n",
       "\n",
       "    .dataframe thead th {\n",
       "        text-align: right;\n",
       "    }\n",
       "</style>\n",
       "<table border=\"1\" class=\"dataframe\">\n",
       "  <thead>\n",
       "    <tr style=\"text-align: right;\">\n",
       "      <th></th>\n",
       "      <th>track_name</th>\n",
       "      <th>artist(s)_name</th>\n",
       "      <th>artist_count</th>\n",
       "      <th>released_year</th>\n",
       "      <th>released_month</th>\n",
       "      <th>released_day</th>\n",
       "      <th>in_spotify_playlists</th>\n",
       "      <th>in_spotify_charts</th>\n",
       "      <th>streams</th>\n",
       "      <th>in_apple_playlists</th>\n",
       "      <th>...</th>\n",
       "      <th>bpm</th>\n",
       "      <th>key</th>\n",
       "      <th>mode</th>\n",
       "      <th>danceability_%</th>\n",
       "      <th>valence_%</th>\n",
       "      <th>energy_%</th>\n",
       "      <th>acousticness_%</th>\n",
       "      <th>instrumentalness_%</th>\n",
       "      <th>liveness_%</th>\n",
       "      <th>speechiness_%</th>\n",
       "    </tr>\n",
       "  </thead>\n",
       "  <tbody>\n",
       "    <tr>\n",
       "      <th>0</th>\n",
       "      <td>Anti-Hero</td>\n",
       "      <td>Taylor Swift</td>\n",
       "      <td>1</td>\n",
       "      <td>2022</td>\n",
       "      <td>10</td>\n",
       "      <td>21</td>\n",
       "      <td>9082</td>\n",
       "      <td>56</td>\n",
       "      <td>999748277</td>\n",
       "      <td>242</td>\n",
       "      <td>...</td>\n",
       "      <td>97</td>\n",
       "      <td>E</td>\n",
       "      <td>Major</td>\n",
       "      <td>64</td>\n",
       "      <td>51</td>\n",
       "      <td>63</td>\n",
       "      <td>12</td>\n",
       "      <td>0</td>\n",
       "      <td>19</td>\n",
       "      <td>5</td>\n",
       "    </tr>\n",
       "    <tr>\n",
       "      <th>1</th>\n",
       "      <td>Glimpse of Us</td>\n",
       "      <td>Joji</td>\n",
       "      <td>1</td>\n",
       "      <td>2022</td>\n",
       "      <td>6</td>\n",
       "      <td>10</td>\n",
       "      <td>6330</td>\n",
       "      <td>6</td>\n",
       "      <td>988515741</td>\n",
       "      <td>109</td>\n",
       "      <td>...</td>\n",
       "      <td>170</td>\n",
       "      <td>G#</td>\n",
       "      <td>Major</td>\n",
       "      <td>44</td>\n",
       "      <td>27</td>\n",
       "      <td>32</td>\n",
       "      <td>89</td>\n",
       "      <td>0</td>\n",
       "      <td>14</td>\n",
       "      <td>5</td>\n",
       "    </tr>\n",
       "    <tr>\n",
       "      <th>2</th>\n",
       "      <td>Seek &amp; Destroy</td>\n",
       "      <td>SZA</td>\n",
       "      <td>1</td>\n",
       "      <td>2022</td>\n",
       "      <td>12</td>\n",
       "      <td>9</td>\n",
       "      <td>1007</td>\n",
       "      <td>0</td>\n",
       "      <td>98709329</td>\n",
       "      <td>5</td>\n",
       "      <td>...</td>\n",
       "      <td>152</td>\n",
       "      <td>C#</td>\n",
       "      <td>Major</td>\n",
       "      <td>65</td>\n",
       "      <td>35</td>\n",
       "      <td>65</td>\n",
       "      <td>44</td>\n",
       "      <td>18</td>\n",
       "      <td>21</td>\n",
       "      <td>7</td>\n",
       "    </tr>\n",
       "    <tr>\n",
       "      <th>3</th>\n",
       "      <td>Summertime Sadness</td>\n",
       "      <td>Lana Del Rey</td>\n",
       "      <td>1</td>\n",
       "      <td>2011</td>\n",
       "      <td>1</td>\n",
       "      <td>1</td>\n",
       "      <td>20333</td>\n",
       "      <td>52</td>\n",
       "      <td>983637508</td>\n",
       "      <td>89</td>\n",
       "      <td>...</td>\n",
       "      <td>112</td>\n",
       "      <td>C#</td>\n",
       "      <td>Minor</td>\n",
       "      <td>56</td>\n",
       "      <td>24</td>\n",
       "      <td>66</td>\n",
       "      <td>7</td>\n",
       "      <td>0</td>\n",
       "      <td>12</td>\n",
       "      <td>3</td>\n",
       "    </tr>\n",
       "    <tr>\n",
       "      <th>4</th>\n",
       "      <td>Come Back Home - From \"Purple Hearts\"</td>\n",
       "      <td>Sofia Carson</td>\n",
       "      <td>1</td>\n",
       "      <td>2022</td>\n",
       "      <td>7</td>\n",
       "      <td>12</td>\n",
       "      <td>367</td>\n",
       "      <td>0</td>\n",
       "      <td>97610446</td>\n",
       "      <td>28</td>\n",
       "      <td>...</td>\n",
       "      <td>145</td>\n",
       "      <td>G</td>\n",
       "      <td>Major</td>\n",
       "      <td>56</td>\n",
       "      <td>43</td>\n",
       "      <td>53</td>\n",
       "      <td>24</td>\n",
       "      <td>0</td>\n",
       "      <td>12</td>\n",
       "      <td>4</td>\n",
       "    </tr>\n",
       "    <tr>\n",
       "      <th>...</th>\n",
       "      <td>...</td>\n",
       "      <td>...</td>\n",
       "      <td>...</td>\n",
       "      <td>...</td>\n",
       "      <td>...</td>\n",
       "      <td>...</td>\n",
       "      <td>...</td>\n",
       "      <td>...</td>\n",
       "      <td>...</td>\n",
       "      <td>...</td>\n",
       "      <td>...</td>\n",
       "      <td>...</td>\n",
       "      <td>...</td>\n",
       "      <td>...</td>\n",
       "      <td>...</td>\n",
       "      <td>...</td>\n",
       "      <td>...</td>\n",
       "      <td>...</td>\n",
       "      <td>...</td>\n",
       "      <td>...</td>\n",
       "      <td>...</td>\n",
       "    </tr>\n",
       "    <tr>\n",
       "      <th>808</th>\n",
       "      <td>Falling</td>\n",
       "      <td>Harry Styles</td>\n",
       "      <td>1</td>\n",
       "      <td>2019</td>\n",
       "      <td>12</td>\n",
       "      <td>13</td>\n",
       "      <td>7556</td>\n",
       "      <td>0</td>\n",
       "      <td>1023187129</td>\n",
       "      <td>124</td>\n",
       "      <td>...</td>\n",
       "      <td>110</td>\n",
       "      <td>E</td>\n",
       "      <td>Major</td>\n",
       "      <td>57</td>\n",
       "      <td>6</td>\n",
       "      <td>27</td>\n",
       "      <td>84</td>\n",
       "      <td>0</td>\n",
       "      <td>9</td>\n",
       "      <td>3</td>\n",
       "    </tr>\n",
       "    <tr>\n",
       "      <th>809</th>\n",
       "      <td>Revenge</td>\n",
       "      <td>XXXTENTACION</td>\n",
       "      <td>1</td>\n",
       "      <td>2017</td>\n",
       "      <td>8</td>\n",
       "      <td>25</td>\n",
       "      <td>3600</td>\n",
       "      <td>11</td>\n",
       "      <td>1022258230</td>\n",
       "      <td>7</td>\n",
       "      <td>...</td>\n",
       "      <td>140</td>\n",
       "      <td>B</td>\n",
       "      <td>Minor</td>\n",
       "      <td>75</td>\n",
       "      <td>18</td>\n",
       "      <td>25</td>\n",
       "      <td>78</td>\n",
       "      <td>0</td>\n",
       "      <td>11</td>\n",
       "      <td>26</td>\n",
       "    </tr>\n",
       "    <tr>\n",
       "      <th>810</th>\n",
       "      <td>Right On</td>\n",
       "      <td>Lil Baby</td>\n",
       "      <td>1</td>\n",
       "      <td>2022</td>\n",
       "      <td>4</td>\n",
       "      <td>8</td>\n",
       "      <td>1116</td>\n",
       "      <td>0</td>\n",
       "      <td>101780047</td>\n",
       "      <td>31</td>\n",
       "      <td>...</td>\n",
       "      <td>166</td>\n",
       "      <td>D</td>\n",
       "      <td>Major</td>\n",
       "      <td>70</td>\n",
       "      <td>22</td>\n",
       "      <td>61</td>\n",
       "      <td>2</td>\n",
       "      <td>0</td>\n",
       "      <td>10</td>\n",
       "      <td>34</td>\n",
       "    </tr>\n",
       "    <tr>\n",
       "      <th>811</th>\n",
       "      <td>Best Friends</td>\n",
       "      <td>The Weeknd</td>\n",
       "      <td>1</td>\n",
       "      <td>2022</td>\n",
       "      <td>1</td>\n",
       "      <td>7</td>\n",
       "      <td>1292</td>\n",
       "      <td>0</td>\n",
       "      <td>101114984</td>\n",
       "      <td>3</td>\n",
       "      <td>...</td>\n",
       "      <td>87</td>\n",
       "      <td>E</td>\n",
       "      <td>Minor</td>\n",
       "      <td>49</td>\n",
       "      <td>49</td>\n",
       "      <td>59</td>\n",
       "      <td>44</td>\n",
       "      <td>0</td>\n",
       "      <td>35</td>\n",
       "      <td>21</td>\n",
       "    </tr>\n",
       "    <tr>\n",
       "      <th>812</th>\n",
       "      <td>Arcï¿½ï¿½ngel: Bzrp Music Sessions, Vol</td>\n",
       "      <td>Arcangel, Bizarrap</td>\n",
       "      <td>2</td>\n",
       "      <td>2023</td>\n",
       "      <td>3</td>\n",
       "      <td>22</td>\n",
       "      <td>654</td>\n",
       "      <td>3</td>\n",
       "      <td>100409613</td>\n",
       "      <td>11</td>\n",
       "      <td>...</td>\n",
       "      <td>124</td>\n",
       "      <td>B</td>\n",
       "      <td>Minor</td>\n",
       "      <td>72</td>\n",
       "      <td>79</td>\n",
       "      <td>78</td>\n",
       "      <td>55</td>\n",
       "      <td>0</td>\n",
       "      <td>15</td>\n",
       "      <td>30</td>\n",
       "    </tr>\n",
       "  </tbody>\n",
       "</table>\n",
       "<p>813 rows × 24 columns</p>\n",
       "</div>"
      ],
      "text/plain": [
       "                                  track_name      artist(s)_name  \\\n",
       "0                                  Anti-Hero        Taylor Swift   \n",
       "1                              Glimpse of Us                Joji   \n",
       "2                             Seek & Destroy                 SZA   \n",
       "3                         Summertime Sadness        Lana Del Rey   \n",
       "4      Come Back Home - From \"Purple Hearts\"        Sofia Carson   \n",
       "..                                       ...                 ...   \n",
       "808                                  Falling        Harry Styles   \n",
       "809                                  Revenge        XXXTENTACION   \n",
       "810                                 Right On            Lil Baby   \n",
       "811                             Best Friends          The Weeknd   \n",
       "812  Arcï¿½ï¿½ngel: Bzrp Music Sessions, Vol  Arcangel, Bizarrap   \n",
       "\n",
       "     artist_count  released_year  released_month  released_day  \\\n",
       "0               1           2022              10            21   \n",
       "1               1           2022               6            10   \n",
       "2               1           2022              12             9   \n",
       "3               1           2011               1             1   \n",
       "4               1           2022               7            12   \n",
       "..            ...            ...             ...           ...   \n",
       "808             1           2019              12            13   \n",
       "809             1           2017               8            25   \n",
       "810             1           2022               4             8   \n",
       "811             1           2022               1             7   \n",
       "812             2           2023               3            22   \n",
       "\n",
       "     in_spotify_playlists  in_spotify_charts     streams  in_apple_playlists  \\\n",
       "0                    9082                 56   999748277                 242   \n",
       "1                    6330                  6   988515741                 109   \n",
       "2                    1007                  0    98709329                   5   \n",
       "3                   20333                 52   983637508                  89   \n",
       "4                     367                  0    97610446                  28   \n",
       "..                    ...                ...         ...                 ...   \n",
       "808                  7556                  0  1023187129                 124   \n",
       "809                  3600                 11  1022258230                   7   \n",
       "810                  1116                  0   101780047                  31   \n",
       "811                  1292                  0   101114984                   3   \n",
       "812                   654                  3   100409613                  11   \n",
       "\n",
       "     ...  bpm  key   mode  danceability_%  valence_% energy_% acousticness_%  \\\n",
       "0    ...   97    E  Major              64         51       63             12   \n",
       "1    ...  170   G#  Major              44         27       32             89   \n",
       "2    ...  152   C#  Major              65         35       65             44   \n",
       "3    ...  112   C#  Minor              56         24       66              7   \n",
       "4    ...  145    G  Major              56         43       53             24   \n",
       "..   ...  ...  ...    ...             ...        ...      ...            ...   \n",
       "808  ...  110    E  Major              57          6       27             84   \n",
       "809  ...  140    B  Minor              75         18       25             78   \n",
       "810  ...  166    D  Major              70         22       61              2   \n",
       "811  ...   87    E  Minor              49         49       59             44   \n",
       "812  ...  124    B  Minor              72         79       78             55   \n",
       "\n",
       "     instrumentalness_%  liveness_%  speechiness_%  \n",
       "0                     0          19              5  \n",
       "1                     0          14              5  \n",
       "2                    18          21              7  \n",
       "3                     0          12              3  \n",
       "4                     0          12              4  \n",
       "..                  ...         ...            ...  \n",
       "808                   0           9              3  \n",
       "809                   0          11             26  \n",
       "810                   0          10             34  \n",
       "811                   0          35             21  \n",
       "812                   0          15             30  \n",
       "\n",
       "[813 rows x 24 columns]"
      ]
     },
     "execution_count": 87,
     "metadata": {},
     "output_type": "execute_result"
    }
   ],
   "source": [
    "#read the cleaned dataset from the csv file\n",
    "spotifydf = pd.read_csv('spotify-2023_Cleaned.csv', index_col = 0)\n",
    "spotifydf"
   ]
  },
  {
   "cell_type": "markdown",
   "id": "347841a5-c22c-44eb-a7bf-957ebab3b4ee",
   "metadata": {},
   "source": [
    "# GUIDE QUESTIONS"
   ]
  },
  {
   "cell_type": "markdown",
   "id": "0fe954a8-7a2b-462f-a40a-577982853f00",
   "metadata": {},
   "source": [
    "### How many rows and columns does the dataset contain?"
   ]
  },
  {
   "cell_type": "code",
   "execution_count": 44,
   "id": "a2864a39-5d8b-4b69-a3fd-ec8220413296",
   "metadata": {},
   "outputs": [
    {
     "name": "stdout",
     "output_type": "stream",
     "text": [
      "The dataset initially contained 953 rows and 24 columns\n",
      "\n",
      "After cleaning the dataset, it now contains 813 rows and 24 columns\n"
     ]
    }
   ],
   "source": [
    "#take the number of rows and columns and print its values\n",
    "uncleaned_rows = uncleaned.shape[0]\n",
    "uncleaned_cols = uncleaned.shape[1]\n",
    "spotifydf_rows = spotifydf.shape[0]\n",
    "spotifydf_cols = spotifydf.shape[1]\n",
    "print(f\"The dataset initially contained {uncleaned_rows} rows and {uncleaned_cols} columns\\n\")\n",
    "print(f\"After cleaning the dataset, it now contains {spotifydf_rows} rows and {spotifydf_cols} columns\")"
   ]
  },
  {
   "cell_type": "markdown",
   "id": "8a2b2edf-db05-4cc8-8236-ed88c488c7a3",
   "metadata": {},
   "source": [
    "### What are the data types of each column? Are there any missing values?"
   ]
  },
  {
   "cell_type": "code",
   "execution_count": 47,
   "id": "2ceac7c6-adc3-428d-8ca0-bf163f78009f",
   "metadata": {},
   "outputs": [
    {
     "name": "stdout",
     "output_type": "stream",
     "text": [
      "The datatypes of each columns are:\n",
      "\n",
      "The column track_name has a datype of object\n",
      "The column artist(s)_name has a datype of object\n",
      "The column artist_count has a datype of int64\n",
      "The column released_year has a datype of int64\n",
      "The column released_month has a datype of int64\n",
      "The column released_day has a datype of int64\n",
      "The column in_spotify_playlists has a datype of int64\n",
      "The column in_spotify_charts has a datype of int64\n",
      "The column streams has a datype of int64\n",
      "The column in_apple_playlists has a datype of int64\n",
      "The column in_apple_charts has a datype of int64\n",
      "The column in_deezer_playlists has a datype of int64\n",
      "The column in_deezer_charts has a datype of int64\n",
      "The column in_shazam_charts has a datype of int64\n",
      "The column bpm has a datype of int64\n",
      "The column key has a datype of object\n",
      "The column mode has a datype of object\n",
      "The column danceability_% has a datype of int64\n",
      "The column valence_% has a datype of int64\n",
      "The column energy_% has a datype of int64\n",
      "The column acousticness_% has a datype of int64\n",
      "The column instrumentalness_% has a datype of int64\n",
      "The column liveness_% has a datype of int64\n",
      "The column speechiness_% has a datype of int64\n"
     ]
    }
   ],
   "source": [
    "#use for loop to check the datatypes of each column in the dataset\n",
    "print(\"The datatypes of each columns are:\\n\")\n",
    "for column, dtype in spotifydf.dtypes.items():\n",
    "    print(f\"The column {column} has a datype of {dtype}\")"
   ]
  },
  {
   "cell_type": "code",
   "execution_count": 49,
   "id": "5fdd096e-de6f-4b3d-8be0-c2177e08fe07",
   "metadata": {},
   "outputs": [
    {
     "name": "stdout",
     "output_type": "stream",
     "text": [
      "In the uncleaned dataset, there were 145 misssing values in the dataset\n",
      "\n",
      "After cleaning the dataset, it now contains 0 missing values\n"
     ]
    }
   ],
   "source": [
    "#print and compare the differences of the quantity of null values in the cleaned and uncleaned dataset\n",
    "print(\"In the uncleaned dataset, there were\", uncleaned.isnull().sum().sum(), \"misssing values in the dataset\\n\")\n",
    "print(\"After cleaning the dataset, it now contains\", spotifydf.isnull().sum().sum(), \"missing values\")"
   ]
  },
  {
   "cell_type": "markdown",
   "id": "dce50690-0351-4f9a-9b66-08ae78eb0d24",
   "metadata": {},
   "source": [
    "## Basic Descriptive Statistics"
   ]
  },
  {
   "cell_type": "markdown",
   "id": "bbdf6ef6-cdd1-470e-82df-557d80cd5265",
   "metadata": {},
   "source": [
    "### What are the mean, median, and standard deviation of the streams column?"
   ]
  },
  {
   "cell_type": "code",
   "execution_count": 53,
   "id": "286df9c2-a93e-4e9b-8b99-280491ba33a6",
   "metadata": {},
   "outputs": [
    {
     "name": "stdout",
     "output_type": "stream",
     "text": [
      "The mean of the streams column is 469292272.0 streams\n"
     ]
    }
   ],
   "source": [
    "#print the mean of number of streams\n",
    "print(\"The mean of the streams column is\", np.floor(spotifydf['streams'].mean()), \"streams\")"
   ]
  },
  {
   "cell_type": "code",
   "execution_count": 55,
   "id": "c07b657d-3b1d-4d70-b1db-4417d9198cfb",
   "metadata": {},
   "outputs": [
    {
     "name": "stdout",
     "output_type": "stream",
     "text": [
      "The median of the streams column is 263779030.0 streams\n"
     ]
    }
   ],
   "source": [
    "#print the median of number of streams\n",
    "print(\"The median of the streams column is\", np.floor(spotifydf['streams'].median()), \"streams\")"
   ]
  },
  {
   "cell_type": "code",
   "execution_count": 57,
   "id": "051ec88d-2f9a-4036-b19a-dd327de806e1",
   "metadata": {},
   "outputs": [
    {
     "name": "stdout",
     "output_type": "stream",
     "text": [
      "The standard deviation of the streams column is 523848958.0 streams\n"
     ]
    }
   ],
   "source": [
    "#print the standard deviation of number of streams\n",
    "print(\"The standard deviation of the streams column is\", np.floor(spotifydf['streams'].std()), \"streams\")"
   ]
  },
  {
   "cell_type": "markdown",
   "id": "d4981dd3-b6f5-46f0-83f5-08e95e562ff3",
   "metadata": {},
   "source": [
    "### What is the distribution of released_year?"
   ]
  },
  {
   "cell_type": "code",
   "execution_count": 171,
   "id": "0c62c421-fdd6-4ca9-828b-443ad94387b5",
   "metadata": {},
   "outputs": [
    {
     "data": {
      "text/plain": [
       "<seaborn.axisgrid.FacetGrid at 0x1abada39640>"
      ]
     },
     "execution_count": 171,
     "metadata": {},
     "output_type": "execute_result"
    },
    {
     "data": {
      "image/png": "[encoded data removed]",
      "text/plain": [
       "<Figure size 1000x500 with 1 Axes>"
      ]
     },
     "metadata": {},
     "output_type": "display_data"
    }
   ],
   "source": [
    "#graphing of distribution plot of the number of songs as a function of their release date\n",
    "sns.displot(spotifydf, x = 'released_year', aspect = 2, kde = True, discrete = True)"
   ]
  },
  {
   "cell_type": "markdown",
   "id": "583f9f3c-9e45-4281-8c1e-7c63fed84534",
   "metadata": {},
   "source": [
    "#### In this instance, graphing all the years makes the graph difficult to analyze as the number of songs is skewed towards the later years"
   ]
  },
  {
   "cell_type": "code",
   "execution_count": 176,
   "id": "6eeed2ed-2d71-4e44-b574-e080095a0095",
   "metadata": {},
   "outputs": [
    {
     "data": {
      "text/plain": [
       "<seaborn.axisgrid.FacetGrid at 0x1abafabfcb0>"
      ]
     },
     "execution_count": 176,
     "metadata": {},
     "output_type": "execute_result"
    },
    {
     "data": {
      "image/png": "[encoded data removed]",
      "text/plain": [
       "<Figure size 1000x500 with 1 Axes>"
      ]
     },
     "metadata": {},
     "output_type": "display_data"
    }
   ],
   "source": [
    "#graphing of distribution plot of the number of songs as a function of their release date\n",
    "sns.displot((spotifydf[spotifydf['released_year'] >= 2000]), x = 'released_year', aspect = 2, kde = True, discrete = True)"
   ]
  },
  {
   "cell_type": "markdown",
   "id": "73a3ab0f-a7cf-43f0-a6b3-fef739d8b33e",
   "metadata": {},
   "source": [
    "#### By limiting the number of years shown in the graph, we can analyze that only the years 2000 and above are significant in determining the trend of the graph as songs released before the year 2000 are mostly outliers"
   ]
  },
  {
   "cell_type": "markdown",
   "id": "7140e5b8-19c3-47b3-945f-638edb2201f8",
   "metadata": {},
   "source": [
    "### Any noticeable trends?"
   ]
  },
  {
   "cell_type": "code",
   "execution_count": 69,
   "id": "a6f9a27f-7b06-4893-b54e-795a0b199bc2",
   "metadata": {},
   "outputs": [
    {
     "name": "stdout",
     "output_type": "stream",
     "text": [
      "The songs released span from 1930 to 2023\n"
     ]
    }
   ],
   "source": [
    "#to check the span of the lower and upper bound of the released years\n",
    "print(\"The songs released span from\", min(spotifydf['released_year']), \"to\", max(spotifydf['released_year']))"
   ]
  },
  {
   "cell_type": "markdown",
   "id": "4b34da92-42e0-4ff3-be89-4befc594261a",
   "metadata": {},
   "source": [
    "#### The trend in the distribution graph of released_year suggests that as the released year gets closer to 2023, the number of released songs in the dataset of most streamed songs in spotify as of 2023 increases. However, the number of releases peaks at 2022, and not in 2023. This trend suggests that the time it takes for a song to be popular is a major factor in its inclusiveness in the most streamed song relative to the year the data in the dataset was gathered."
   ]
  },
  {
   "cell_type": "markdown",
   "id": "6c7aba72-dd5b-4ac9-8199-f981971752d3",
   "metadata": {},
   "source": [
    "### Any outliers?"
   ]
  },
  {
   "cell_type": "code",
   "execution_count": 111,
   "id": "c6caac86-2d2d-4b69-aa53-1f9146bd79c7",
   "metadata": {},
   "outputs": [
    {
     "name": "stdout",
     "output_type": "stream",
     "text": [
      "In the distribution graph of \"released_year\", there are 180 outliers.\n"
     ]
    }
   ],
   "source": [
    "def outlier(df, column):\n",
    "    # Finds the outliers in a certain column in a dataset using the interquartile range formula\n",
    "    Q1 = df[column].quantile(0.25)\n",
    "    Q3 = df[column].quantile(0.75)\n",
    "    IQR = Q3 - Q1\n",
    "    lowerbound = Q1 - 1.5*IQR\n",
    "    upperbound = Q3 + 1.5*IQR\n",
    "\n",
    "    outliers = df[(df[column] < lowerbound) | (df[column] > upperbound)][column]\n",
    "    return outliers\n",
    "\n",
    "#print the number of outliers in the graph of released_year\n",
    "print('In the distribution graph of \"released_year\", there are', outlier(spotifydf, 'released_year').shape[0] ,'outliers.')"
   ]
  },
  {
   "cell_type": "markdown",
   "id": "28b83116-bede-44d1-92ae-2a8cb1be6973",
   "metadata": {},
   "source": [
    "### What is the distribution of artist_count?"
   ]
  },
  {
   "cell_type": "code",
   "execution_count": 72,
   "id": "7d0cd07f-d847-46bf-a4d7-b0091c6b3b8d",
   "metadata": {},
   "outputs": [
    {
     "data": {
      "text/plain": [
       "<seaborn.axisgrid.FacetGrid at 0x1abad7860c0>"
      ]
     },
     "execution_count": 72,
     "metadata": {},
     "output_type": "execute_result"
    },
    {
     "data": {
      "image/png": "[encoded data removed]",
      "text/plain": [
       "<Figure size 1000x500 with 1 Axes>"
      ]
     },
     "metadata": {},
     "output_type": "display_data"
    }
   ],
   "source": [
    "#graphing of distribution plot of number of songs as a function of the number of artists included in the song\n",
    "sns.displot(spotifydf, x = 'artist_count', aspect = 2, kde = True, discrete = True)"
   ]
  },
  {
   "cell_type": "markdown",
   "id": "b5910fce-d163-4ba1-b49b-b7362ce2ddcf",
   "metadata": {},
   "source": [
    "### Any noticeable trends?"
   ]
  },
  {
   "cell_type": "markdown",
   "id": "bfcc4694-baca-4dcc-808a-514707299f9a",
   "metadata": {},
   "source": [
    "#### The trend in the distribution graph of artist_count suggests that the more artists featured in a song, the less number of songs in total. This indicates that more songs are made by fewer artists involved."
   ]
  },
  {
   "cell_type": "markdown",
   "id": "eeab75dc-5cfd-4b2a-960f-6446160072ec",
   "metadata": {},
   "source": [
    "### Any outliers?"
   ]
  },
  {
   "cell_type": "code",
   "execution_count": 107,
   "id": "59de4936-9c78-475a-bdea-d9542d471bf8",
   "metadata": {},
   "outputs": [
    {
     "name": "stdout",
     "output_type": "stream",
     "text": [
      "In the distribution graph of \"artist_count\", there are 24 outliers.\n"
     ]
    }
   ],
   "source": [
    "print('In the distribution graph of \"artist_count\", there are', outlier(spotifydf, 'artist_count').shape[0] ,'outliers.')"
   ]
  }
 ],
 "metadata": {
  "kernelspec": {
   "display_name": "Python 3 (ipykernel)",
   "language": "python",
   "name": "python3"
  },
  "language_info": {
   "codemirror_mode": {
    "name": "ipython",
    "version": 3
   },
   "file_extension": ".py",
   "mimetype": "text/x-python",
   "name": "python",
   "nbconvert_exporter": "python",
   "pygments_lexer": "ipython3",
   "version": "3.12.4"
  }
 },
 "nbformat": 4,
 "nbformat_minor": 5
}
